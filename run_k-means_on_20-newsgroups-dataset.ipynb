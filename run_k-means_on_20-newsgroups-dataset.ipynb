{
 "cells": [
  {
   "cell_type": "markdown",
   "metadata": {},
   "source": [
    "# Implementation of K-means on [20 Newsgroups data set](http://qwone.com/~jason/20Newsgroups/)"
   ]
  },
  {
   "cell_type": "code",
   "execution_count": 1,
   "metadata": {},
   "outputs": [],
   "source": [
    "import numpy as np\n",
    "import pandas as pd\n",
    "from itertools import islice\n",
    "import collections\n",
    "import datetime as dt \n",
    "from sklearn.model_selection import train_test_split\n",
    "from sklearn import metrics\n",
    "import K_Means_Algorithm as km\n",
    "from sklearn.cluster import KMeans #for comparison\n",
    "from sklearn.metrics import completeness_score, homogeneity_score\n",
    "\n",
    "import matplotlib.pyplot as plt\n",
    "from matplotlib import cm\n",
    "import seaborn as sns\n",
    "sns.set()\n",
    "\n",
    "pd.set_option(\"display.precision\", 2)"
   ]
  },
  {
   "cell_type": "markdown",
   "metadata": {},
   "source": [
    "## Import data, test/train split"
   ]
  },
  {
   "cell_type": "code",
   "execution_count": 2,
   "metadata": {},
   "outputs": [
    {
     "data": {
      "text/plain": [
       "['abomin', 'abort', 'abound', 'abraham', 'abridg']"
      ]
     },
     "execution_count": 2,
     "metadata": {},
     "output_type": "execute_result"
    }
   ],
   "source": [
    "terms = pd.read_csv(\".//data//News_groups_terms.txt\", sep='\\t', header=None) \n",
    "terms_lst = list(terms[0])\n",
    "terms_lst[10:15]"
   ]
  },
  {
   "cell_type": "code",
   "execution_count": 3,
   "metadata": {},
   "outputs": [
    {
     "data": {
      "text/html": [
       "<div>\n",
       "<style scoped>\n",
       "    .dataframe tbody tr th:only-of-type {\n",
       "        vertical-align: middle;\n",
       "    }\n",
       "\n",
       "    .dataframe tbody tr th {\n",
       "        vertical-align: top;\n",
       "    }\n",
       "\n",
       "    .dataframe thead th {\n",
       "        text-align: right;\n",
       "    }\n",
       "</style>\n",
       "<table border=\"1\" class=\"dataframe\">\n",
       "  <thead>\n",
       "    <tr style=\"text-align: right;\">\n",
       "      <th></th>\n",
       "      <th>aa</th>\n",
       "      <th>aargh</th>\n",
       "      <th>aaron</th>\n",
       "      <th>aaronc</th>\n",
       "      <th>ab</th>\n",
       "      <th>abandon</th>\n",
       "      <th>abc</th>\n",
       "      <th>abid</th>\n",
       "      <th>abil</th>\n",
       "      <th>abl</th>\n",
       "      <th>...</th>\n",
       "      <th>zq</th>\n",
       "      <th>zr</th>\n",
       "      <th>zrb</th>\n",
       "      <th>zs</th>\n",
       "      <th>zu</th>\n",
       "      <th>zubov</th>\n",
       "      <th>zv</th>\n",
       "      <th>zw</th>\n",
       "      <th>zx</th>\n",
       "      <th>zz</th>\n",
       "    </tr>\n",
       "  </thead>\n",
       "  <tbody>\n",
       "    <tr>\n",
       "      <th>0</th>\n",
       "      <td>0</td>\n",
       "      <td>0</td>\n",
       "      <td>0</td>\n",
       "      <td>0</td>\n",
       "      <td>0</td>\n",
       "      <td>0</td>\n",
       "      <td>0</td>\n",
       "      <td>0</td>\n",
       "      <td>0</td>\n",
       "      <td>0</td>\n",
       "      <td>...</td>\n",
       "      <td>0</td>\n",
       "      <td>0</td>\n",
       "      <td>0</td>\n",
       "      <td>0</td>\n",
       "      <td>0</td>\n",
       "      <td>0</td>\n",
       "      <td>0</td>\n",
       "      <td>0</td>\n",
       "      <td>0</td>\n",
       "      <td>0</td>\n",
       "    </tr>\n",
       "    <tr>\n",
       "      <th>1</th>\n",
       "      <td>0</td>\n",
       "      <td>0</td>\n",
       "      <td>0</td>\n",
       "      <td>0</td>\n",
       "      <td>0</td>\n",
       "      <td>0</td>\n",
       "      <td>0</td>\n",
       "      <td>0</td>\n",
       "      <td>0</td>\n",
       "      <td>1</td>\n",
       "      <td>...</td>\n",
       "      <td>0</td>\n",
       "      <td>0</td>\n",
       "      <td>0</td>\n",
       "      <td>0</td>\n",
       "      <td>0</td>\n",
       "      <td>0</td>\n",
       "      <td>0</td>\n",
       "      <td>0</td>\n",
       "      <td>0</td>\n",
       "      <td>0</td>\n",
       "    </tr>\n",
       "    <tr>\n",
       "      <th>2</th>\n",
       "      <td>0</td>\n",
       "      <td>0</td>\n",
       "      <td>0</td>\n",
       "      <td>0</td>\n",
       "      <td>0</td>\n",
       "      <td>0</td>\n",
       "      <td>0</td>\n",
       "      <td>0</td>\n",
       "      <td>0</td>\n",
       "      <td>0</td>\n",
       "      <td>...</td>\n",
       "      <td>0</td>\n",
       "      <td>0</td>\n",
       "      <td>0</td>\n",
       "      <td>0</td>\n",
       "      <td>0</td>\n",
       "      <td>0</td>\n",
       "      <td>0</td>\n",
       "      <td>0</td>\n",
       "      <td>0</td>\n",
       "      <td>0</td>\n",
       "    </tr>\n",
       "    <tr>\n",
       "      <th>3</th>\n",
       "      <td>0</td>\n",
       "      <td>0</td>\n",
       "      <td>0</td>\n",
       "      <td>0</td>\n",
       "      <td>0</td>\n",
       "      <td>0</td>\n",
       "      <td>0</td>\n",
       "      <td>0</td>\n",
       "      <td>0</td>\n",
       "      <td>0</td>\n",
       "      <td>...</td>\n",
       "      <td>0</td>\n",
       "      <td>0</td>\n",
       "      <td>0</td>\n",
       "      <td>0</td>\n",
       "      <td>0</td>\n",
       "      <td>0</td>\n",
       "      <td>0</td>\n",
       "      <td>0</td>\n",
       "      <td>0</td>\n",
       "      <td>0</td>\n",
       "    </tr>\n",
       "    <tr>\n",
       "      <th>4</th>\n",
       "      <td>0</td>\n",
       "      <td>0</td>\n",
       "      <td>0</td>\n",
       "      <td>0</td>\n",
       "      <td>0</td>\n",
       "      <td>0</td>\n",
       "      <td>0</td>\n",
       "      <td>0</td>\n",
       "      <td>0</td>\n",
       "      <td>0</td>\n",
       "      <td>...</td>\n",
       "      <td>0</td>\n",
       "      <td>0</td>\n",
       "      <td>0</td>\n",
       "      <td>0</td>\n",
       "      <td>0</td>\n",
       "      <td>0</td>\n",
       "      <td>0</td>\n",
       "      <td>0</td>\n",
       "      <td>0</td>\n",
       "      <td>0</td>\n",
       "    </tr>\n",
       "  </tbody>\n",
       "</table>\n",
       "<p>5 rows × 9328 columns</p>\n",
       "</div>"
      ],
      "text/plain": [
       "   aa  aargh  aaron  aaronc  ab  abandon  abc  abid  abil  abl  ...  zq  zr  \\\n",
       "0   0      0      0       0   0        0    0     0     0    0  ...   0   0   \n",
       "1   0      0      0       0   0        0    0     0     0    1  ...   0   0   \n",
       "2   0      0      0       0   0        0    0     0     0    0  ...   0   0   \n",
       "3   0      0      0       0   0        0    0     0     0    0  ...   0   0   \n",
       "4   0      0      0       0   0        0    0     0     0    0  ...   0   0   \n",
       "\n",
       "   zrb  zs  zu  zubov  zv  zw  zx  zz  \n",
       "0    0   0   0      0   0   0   0   0  \n",
       "1    0   0   0      0   0   0   0   0  \n",
       "2    0   0   0      0   0   0   0   0  \n",
       "3    0   0   0      0   0   0   0   0  \n",
       "4    0   0   0      0   0   0   0   0  \n",
       "\n",
       "[5 rows x 9328 columns]"
      ]
     },
     "execution_count": 3,
     "metadata": {},
     "output_type": "execute_result"
    }
   ],
   "source": [
    "#import the term (rows) X document (columns) matrix:\n",
    "term_doc_matrix = pd.read_csv(\".//data//News_groups_matrix.txt\", sep=',', header = None) \n",
    "doc_term_matrix = term_doc_matrix.T\n",
    "doc_term_matrix.columns = terms_lst\n",
    "doc_term_matrix.head()"
   ]
  },
  {
   "cell_type": "code",
   "execution_count": 4,
   "metadata": {},
   "outputs": [
    {
     "data": {
      "text/html": [
       "<div>\n",
       "<style scoped>\n",
       "    .dataframe tbody tr th:only-of-type {\n",
       "        vertical-align: middle;\n",
       "    }\n",
       "\n",
       "    .dataframe tbody tr th {\n",
       "        vertical-align: top;\n",
       "    }\n",
       "\n",
       "    .dataframe thead th {\n",
       "        text-align: right;\n",
       "    }\n",
       "</style>\n",
       "<table border=\"1\" class=\"dataframe\">\n",
       "  <thead>\n",
       "    <tr style=\"text-align: right;\">\n",
       "      <th></th>\n",
       "      <th>aa</th>\n",
       "      <th>aargh</th>\n",
       "      <th>aaron</th>\n",
       "      <th>aaronc</th>\n",
       "      <th>ab</th>\n",
       "      <th>abandon</th>\n",
       "      <th>abc</th>\n",
       "      <th>abid</th>\n",
       "      <th>abil</th>\n",
       "      <th>abl</th>\n",
       "      <th>...</th>\n",
       "      <th>zq</th>\n",
       "      <th>zr</th>\n",
       "      <th>zrb</th>\n",
       "      <th>zs</th>\n",
       "      <th>zu</th>\n",
       "      <th>zubov</th>\n",
       "      <th>zv</th>\n",
       "      <th>zw</th>\n",
       "      <th>zx</th>\n",
       "      <th>zz</th>\n",
       "    </tr>\n",
       "  </thead>\n",
       "  <tbody>\n",
       "    <tr>\n",
       "      <th>count</th>\n",
       "      <td>2.50e+03</td>\n",
       "      <td>2.50e+03</td>\n",
       "      <td>2500.00</td>\n",
       "      <td>2.50e+03</td>\n",
       "      <td>2500.00</td>\n",
       "      <td>2.50e+03</td>\n",
       "      <td>2500.00</td>\n",
       "      <td>2.50e+03</td>\n",
       "      <td>2500.00</td>\n",
       "      <td>2500.00</td>\n",
       "      <td>...</td>\n",
       "      <td>2.50e+03</td>\n",
       "      <td>2.50e+03</td>\n",
       "      <td>2.50e+03</td>\n",
       "      <td>2.50e+03</td>\n",
       "      <td>2.50e+03</td>\n",
       "      <td>2.50e+03</td>\n",
       "      <td>2500.00</td>\n",
       "      <td>2.50e+03</td>\n",
       "      <td>2.50e+03</td>\n",
       "      <td>2.50e+03</td>\n",
       "    </tr>\n",
       "    <tr>\n",
       "      <th>mean</th>\n",
       "      <td>6.40e-03</td>\n",
       "      <td>2.40e-03</td>\n",
       "      <td>0.03</td>\n",
       "      <td>4.80e-03</td>\n",
       "      <td>0.01</td>\n",
       "      <td>4.00e-03</td>\n",
       "      <td>0.02</td>\n",
       "      <td>1.60e-03</td>\n",
       "      <td>0.03</td>\n",
       "      <td>0.08</td>\n",
       "      <td>...</td>\n",
       "      <td>5.20e-03</td>\n",
       "      <td>6.40e-03</td>\n",
       "      <td>1.60e-03</td>\n",
       "      <td>7.60e-03</td>\n",
       "      <td>2.80e-03</td>\n",
       "      <td>3.20e-03</td>\n",
       "      <td>0.02</td>\n",
       "      <td>4.40e-03</td>\n",
       "      <td>2.40e-03</td>\n",
       "      <td>6.00e-03</td>\n",
       "    </tr>\n",
       "    <tr>\n",
       "      <th>std</th>\n",
       "      <td>1.38e-01</td>\n",
       "      <td>4.89e-02</td>\n",
       "      <td>0.95</td>\n",
       "      <td>8.47e-02</td>\n",
       "      <td>0.23</td>\n",
       "      <td>6.92e-02</td>\n",
       "      <td>0.25</td>\n",
       "      <td>4.90e-02</td>\n",
       "      <td>0.24</td>\n",
       "      <td>0.35</td>\n",
       "      <td>...</td>\n",
       "      <td>1.04e-01</td>\n",
       "      <td>1.88e-01</td>\n",
       "      <td>4.90e-02</td>\n",
       "      <td>1.95e-01</td>\n",
       "      <td>8.72e-02</td>\n",
       "      <td>6.92e-02</td>\n",
       "      <td>0.52</td>\n",
       "      <td>1.66e-01</td>\n",
       "      <td>8.48e-02</td>\n",
       "      <td>1.56e-01</td>\n",
       "    </tr>\n",
       "    <tr>\n",
       "      <th>min</th>\n",
       "      <td>0.00e+00</td>\n",
       "      <td>0.00e+00</td>\n",
       "      <td>0.00</td>\n",
       "      <td>0.00e+00</td>\n",
       "      <td>0.00</td>\n",
       "      <td>0.00e+00</td>\n",
       "      <td>0.00</td>\n",
       "      <td>0.00e+00</td>\n",
       "      <td>0.00</td>\n",
       "      <td>0.00</td>\n",
       "      <td>...</td>\n",
       "      <td>0.00e+00</td>\n",
       "      <td>0.00e+00</td>\n",
       "      <td>0.00e+00</td>\n",
       "      <td>0.00e+00</td>\n",
       "      <td>0.00e+00</td>\n",
       "      <td>0.00e+00</td>\n",
       "      <td>0.00</td>\n",
       "      <td>0.00e+00</td>\n",
       "      <td>0.00e+00</td>\n",
       "      <td>0.00e+00</td>\n",
       "    </tr>\n",
       "    <tr>\n",
       "      <th>25%</th>\n",
       "      <td>0.00e+00</td>\n",
       "      <td>0.00e+00</td>\n",
       "      <td>0.00</td>\n",
       "      <td>0.00e+00</td>\n",
       "      <td>0.00</td>\n",
       "      <td>0.00e+00</td>\n",
       "      <td>0.00</td>\n",
       "      <td>0.00e+00</td>\n",
       "      <td>0.00</td>\n",
       "      <td>0.00</td>\n",
       "      <td>...</td>\n",
       "      <td>0.00e+00</td>\n",
       "      <td>0.00e+00</td>\n",
       "      <td>0.00e+00</td>\n",
       "      <td>0.00e+00</td>\n",
       "      <td>0.00e+00</td>\n",
       "      <td>0.00e+00</td>\n",
       "      <td>0.00</td>\n",
       "      <td>0.00e+00</td>\n",
       "      <td>0.00e+00</td>\n",
       "      <td>0.00e+00</td>\n",
       "    </tr>\n",
       "    <tr>\n",
       "      <th>50%</th>\n",
       "      <td>0.00e+00</td>\n",
       "      <td>0.00e+00</td>\n",
       "      <td>0.00</td>\n",
       "      <td>0.00e+00</td>\n",
       "      <td>0.00</td>\n",
       "      <td>0.00e+00</td>\n",
       "      <td>0.00</td>\n",
       "      <td>0.00e+00</td>\n",
       "      <td>0.00</td>\n",
       "      <td>0.00</td>\n",
       "      <td>...</td>\n",
       "      <td>0.00e+00</td>\n",
       "      <td>0.00e+00</td>\n",
       "      <td>0.00e+00</td>\n",
       "      <td>0.00e+00</td>\n",
       "      <td>0.00e+00</td>\n",
       "      <td>0.00e+00</td>\n",
       "      <td>0.00</td>\n",
       "      <td>0.00e+00</td>\n",
       "      <td>0.00e+00</td>\n",
       "      <td>0.00e+00</td>\n",
       "    </tr>\n",
       "    <tr>\n",
       "      <th>75%</th>\n",
       "      <td>0.00e+00</td>\n",
       "      <td>0.00e+00</td>\n",
       "      <td>0.00</td>\n",
       "      <td>0.00e+00</td>\n",
       "      <td>0.00</td>\n",
       "      <td>0.00e+00</td>\n",
       "      <td>0.00</td>\n",
       "      <td>0.00e+00</td>\n",
       "      <td>0.00</td>\n",
       "      <td>0.00</td>\n",
       "      <td>...</td>\n",
       "      <td>0.00e+00</td>\n",
       "      <td>0.00e+00</td>\n",
       "      <td>0.00e+00</td>\n",
       "      <td>0.00e+00</td>\n",
       "      <td>0.00e+00</td>\n",
       "      <td>0.00e+00</td>\n",
       "      <td>0.00</td>\n",
       "      <td>0.00e+00</td>\n",
       "      <td>0.00e+00</td>\n",
       "      <td>0.00e+00</td>\n",
       "    </tr>\n",
       "    <tr>\n",
       "      <th>max</th>\n",
       "      <td>6.00e+00</td>\n",
       "      <td>1.00e+00</td>\n",
       "      <td>47.00</td>\n",
       "      <td>2.00e+00</td>\n",
       "      <td>9.00</td>\n",
       "      <td>2.00e+00</td>\n",
       "      <td>7.00</td>\n",
       "      <td>2.00e+00</td>\n",
       "      <td>6.00</td>\n",
       "      <td>4.00</td>\n",
       "      <td>...</td>\n",
       "      <td>3.00e+00</td>\n",
       "      <td>7.00e+00</td>\n",
       "      <td>2.00e+00</td>\n",
       "      <td>8.00e+00</td>\n",
       "      <td>3.00e+00</td>\n",
       "      <td>2.00e+00</td>\n",
       "      <td>20.00</td>\n",
       "      <td>8.00e+00</td>\n",
       "      <td>4.00e+00</td>\n",
       "      <td>5.00e+00</td>\n",
       "    </tr>\n",
       "  </tbody>\n",
       "</table>\n",
       "<p>8 rows × 9328 columns</p>\n",
       "</div>"
      ],
      "text/plain": [
       "             aa     aargh    aaron    aaronc       ab   abandon      abc  \\\n",
       "count  2.50e+03  2.50e+03  2500.00  2.50e+03  2500.00  2.50e+03  2500.00   \n",
       "mean   6.40e-03  2.40e-03     0.03  4.80e-03     0.01  4.00e-03     0.02   \n",
       "std    1.38e-01  4.89e-02     0.95  8.47e-02     0.23  6.92e-02     0.25   \n",
       "min    0.00e+00  0.00e+00     0.00  0.00e+00     0.00  0.00e+00     0.00   \n",
       "25%    0.00e+00  0.00e+00     0.00  0.00e+00     0.00  0.00e+00     0.00   \n",
       "50%    0.00e+00  0.00e+00     0.00  0.00e+00     0.00  0.00e+00     0.00   \n",
       "75%    0.00e+00  0.00e+00     0.00  0.00e+00     0.00  0.00e+00     0.00   \n",
       "max    6.00e+00  1.00e+00    47.00  2.00e+00     9.00  2.00e+00     7.00   \n",
       "\n",
       "           abid     abil      abl  ...        zq        zr       zrb  \\\n",
       "count  2.50e+03  2500.00  2500.00  ...  2.50e+03  2.50e+03  2.50e+03   \n",
       "mean   1.60e-03     0.03     0.08  ...  5.20e-03  6.40e-03  1.60e-03   \n",
       "std    4.90e-02     0.24     0.35  ...  1.04e-01  1.88e-01  4.90e-02   \n",
       "min    0.00e+00     0.00     0.00  ...  0.00e+00  0.00e+00  0.00e+00   \n",
       "25%    0.00e+00     0.00     0.00  ...  0.00e+00  0.00e+00  0.00e+00   \n",
       "50%    0.00e+00     0.00     0.00  ...  0.00e+00  0.00e+00  0.00e+00   \n",
       "75%    0.00e+00     0.00     0.00  ...  0.00e+00  0.00e+00  0.00e+00   \n",
       "max    2.00e+00     6.00     4.00  ...  3.00e+00  7.00e+00  2.00e+00   \n",
       "\n",
       "             zs        zu     zubov       zv        zw        zx        zz  \n",
       "count  2.50e+03  2.50e+03  2.50e+03  2500.00  2.50e+03  2.50e+03  2.50e+03  \n",
       "mean   7.60e-03  2.80e-03  3.20e-03     0.02  4.40e-03  2.40e-03  6.00e-03  \n",
       "std    1.95e-01  8.72e-02  6.92e-02     0.52  1.66e-01  8.48e-02  1.56e-01  \n",
       "min    0.00e+00  0.00e+00  0.00e+00     0.00  0.00e+00  0.00e+00  0.00e+00  \n",
       "25%    0.00e+00  0.00e+00  0.00e+00     0.00  0.00e+00  0.00e+00  0.00e+00  \n",
       "50%    0.00e+00  0.00e+00  0.00e+00     0.00  0.00e+00  0.00e+00  0.00e+00  \n",
       "75%    0.00e+00  0.00e+00  0.00e+00     0.00  0.00e+00  0.00e+00  0.00e+00  \n",
       "max    8.00e+00  3.00e+00  2.00e+00    20.00  8.00e+00  4.00e+00  5.00e+00  \n",
       "\n",
       "[8 rows x 9328 columns]"
      ]
     },
     "execution_count": 4,
     "metadata": {},
     "output_type": "execute_result"
    }
   ],
   "source": [
    "doc_term_matrix.describe()"
   ]
  },
  {
   "cell_type": "markdown",
   "metadata": {},
   "source": [
    "We can see that most terms show up sparsely across the documents."
   ]
  },
  {
   "cell_type": "code",
   "execution_count": 5,
   "metadata": {},
   "outputs": [],
   "source": [
    "# # Draw a heatmap with the numeric values in each cell\n",
    "# f, ax = plt.subplots(figsize=(15, 20))\n",
    "# sns.heatmap(doc_term_matrix.head(50), annot=False, fmt=\"d\", linewidths=.5, ax=ax)"
   ]
  },
  {
   "cell_type": "markdown",
   "metadata": {},
   "source": [
    "Unfortunately, the dataset is too large and sparse to visualize with a heatmap."
   ]
  },
  {
   "cell_type": "code",
   "execution_count": 6,
   "metadata": {},
   "outputs": [
    {
     "data": {
      "text/html": [
       "<div>\n",
       "<style scoped>\n",
       "    .dataframe tbody tr th:only-of-type {\n",
       "        vertical-align: middle;\n",
       "    }\n",
       "\n",
       "    .dataframe tbody tr th {\n",
       "        vertical-align: top;\n",
       "    }\n",
       "\n",
       "    .dataframe thead th {\n",
       "        text-align: right;\n",
       "    }\n",
       "</style>\n",
       "<table border=\"1\" class=\"dataframe\">\n",
       "  <thead>\n",
       "    <tr style=\"text-align: right;\">\n",
       "      <th></th>\n",
       "      <th>1</th>\n",
       "    </tr>\n",
       "    <tr>\n",
       "      <th>0</th>\n",
       "      <th></th>\n",
       "    </tr>\n",
       "  </thead>\n",
       "  <tbody>\n",
       "    <tr>\n",
       "      <th>0</th>\n",
       "      <td>0</td>\n",
       "    </tr>\n",
       "    <tr>\n",
       "      <th>1</th>\n",
       "      <td>1</td>\n",
       "    </tr>\n",
       "    <tr>\n",
       "      <th>2</th>\n",
       "      <td>1</td>\n",
       "    </tr>\n",
       "    <tr>\n",
       "      <th>3</th>\n",
       "      <td>1</td>\n",
       "    </tr>\n",
       "    <tr>\n",
       "      <th>4</th>\n",
       "      <td>2</td>\n",
       "    </tr>\n",
       "  </tbody>\n",
       "</table>\n",
       "</div>"
      ],
      "text/plain": [
       "   1\n",
       "0   \n",
       "0  0\n",
       "1  1\n",
       "2  1\n",
       "3  1\n",
       "4  2"
      ]
     },
     "execution_count": 6,
     "metadata": {},
     "output_type": "execute_result"
    }
   ],
   "source": [
    "classes = pd.read_csv(\".//data//News_groups_classes.txt\", sep=' ', header=None, skiprows=1, index_col=0) \n",
    "classes.head()"
   ]
  },
  {
   "cell_type": "code",
   "execution_count": 7,
   "metadata": {},
   "outputs": [
    {
     "name": "stdout",
     "output_type": "stream",
     "text": [
      "(2500, 9328)\n",
      "(2500, 1)\n",
      "(9328, 1)\n"
     ]
    }
   ],
   "source": [
    "print(doc_term_matrix.shape)\n",
    "print(classes.shape)\n",
    "print(terms.shape)"
   ]
  },
  {
   "cell_type": "code",
   "execution_count": 8,
   "metadata": {},
   "outputs": [],
   "source": [
    "doc_term_matrix_train, doc_term_matrix_test, classes_train, classes_test = train_test_split(doc_term_matrix, \n",
    "                                                                               classes, test_size=0.2, \n",
    "                                                                               random_state=33)"
   ]
  },
  {
   "cell_type": "code",
   "execution_count": 9,
   "metadata": {},
   "outputs": [
    {
     "data": {
      "text/plain": [
       "((2000, 9328), (500, 9328))"
      ]
     },
     "execution_count": 9,
     "metadata": {},
     "output_type": "execute_result"
    }
   ],
   "source": [
    "doc_term_matrix_train.shape, doc_term_matrix_test.shape"
   ]
  },
  {
   "cell_type": "markdown",
   "metadata": {},
   "source": [
    "## Turn raw term frequencies into TFxIDF values \n",
    "(be sure to maintain DF values for each of the terms in the dictionary)"
   ]
  },
  {
   "cell_type": "code",
   "execution_count": 10,
   "metadata": {},
   "outputs": [],
   "source": [
    "TD = doc_term_matrix_train.T"
   ]
  },
  {
   "cell_type": "code",
   "execution_count": 11,
   "metadata": {},
   "outputs": [
    {
     "name": "stdout",
     "output_type": "stream",
     "text": [
      "[[ 7]\n",
      " [ 4]\n",
      " [17]\n",
      " ...\n",
      " [ 2]\n",
      " [ 1]\n",
      " [ 2]]\n"
     ]
    }
   ],
   "source": [
    "# Find document frequencies for each term\n",
    "docFreq = np.array([(TD!=0).sum(1)]).T #counts nonzero entries for each term \n",
    "print(docFreq)"
   ]
  },
  {
   "cell_type": "code",
   "execution_count": 12,
   "metadata": {},
   "outputs": [
    {
     "data": {
      "text/plain": [
       "15"
      ]
     },
     "execution_count": 12,
     "metadata": {},
     "output_type": "execute_result"
    }
   ],
   "source": [
    "len(np.where(docFreq == 0)[0])\n",
    "# => there are 15 terms that don't appear in any documents!"
   ]
  },
  {
   "cell_type": "code",
   "execution_count": 13,
   "metadata": {},
   "outputs": [
    {
     "data": {
      "text/plain": [
       "2000"
      ]
     },
     "execution_count": 13,
     "metadata": {},
     "output_type": "execute_result"
    }
   ],
   "source": [
    "NDocs = doc_term_matrix_train.shape[0]\n",
    "NDocs"
   ]
  },
  {
   "cell_type": "code",
   "execution_count": 14,
   "metadata": {},
   "outputs": [
    {
     "name": "stdout",
     "output_type": "stream",
     "text": [
      "[[2000. 2000. 2000. ... 2000. 2000. 2000.]\n",
      " [2000. 2000. 2000. ... 2000. 2000. 2000.]\n",
      " [2000. 2000. 2000. ... 2000. 2000. 2000.]\n",
      " ...\n",
      " [2000. 2000. 2000. ... 2000. 2000. 2000.]\n",
      " [2000. 2000. 2000. ... 2000. 2000. 2000.]\n",
      " [2000. 2000. 2000. ... 2000. 2000. 2000.]]\n"
     ]
    }
   ],
   "source": [
    "# Create a matrix with all entries = NDocs\n",
    "NMatrix=np.ones(np.shape(TD), dtype=float)*NDocs\n",
    "np.set_printoptions(precision=2,suppress=True,linewidth=120)\n",
    "print (NMatrix)"
   ]
  },
  {
   "cell_type": "code",
   "execution_count": 15,
   "metadata": {},
   "outputs": [
    {
     "name": "stderr",
     "output_type": "stream",
     "text": [
      "C:\\Users\\renel.chesak\\Anaconda3\\lib\\site-packages\\ipykernel_launcher.py:3: RuntimeWarning: divide by zero encountered in true_divide\n",
      "  This is separate from the ipykernel package so we can avoid doing imports until\n"
     ]
    },
    {
     "name": "stdout",
     "output_type": "stream",
     "text": [
      "[[ 8.16  8.16  8.16 ...  8.16  8.16  8.16]\n",
      " [ 8.97  8.97  8.97 ...  8.97  8.97  8.97]\n",
      " [ 6.88  6.88  6.88 ...  6.88  6.88  6.88]\n",
      " ...\n",
      " [ 9.97  9.97  9.97 ...  9.97  9.97  9.97]\n",
      " [10.97 10.97 10.97 ... 10.97 10.97 10.97]\n",
      " [ 9.97  9.97  9.97 ...  9.97  9.97  9.97]]\n"
     ]
    }
   ],
   "source": [
    "# Convert each entry into IDF values\n",
    "# Note that IDF is only a function of the term, so all columns will be identical.\n",
    "IDF = np.log2(np.divide(NMatrix, docFreq)) \n",
    "print(IDF) "
   ]
  },
  {
   "cell_type": "markdown",
   "metadata": {},
   "source": [
    "Note above that there is a warning saying that it is encountering an issue where it has to divide by zero. This is actually creating INF (infinite) values where ever this happens. We encounter dividing by zero when the DF (NK) is zero (meaning the term doesn't appear in any documents). We need to replace these 'inf' values with some float to move on to the next step in our computation.\n",
    "\n",
    "IDF provides high values for rare words and low values for common words, so infinite is appropriate, it just can't be used in computations. Two good options would be either making them really, really, big numbers, or removing them from the DT matrix altogether. We will proceed with the former."
   ]
  },
  {
   "cell_type": "code",
   "execution_count": 16,
   "metadata": {},
   "outputs": [],
   "source": [
    "#define inf:\n",
    "positive_inf = float('+inf')\n",
    "\n",
    "#set all inf values to a large number:\n",
    "IDF[IDF == positive_inf] = 100000000000"
   ]
  },
  {
   "cell_type": "code",
   "execution_count": 17,
   "metadata": {},
   "outputs": [
    {
     "data": {
      "text/html": [
       "<div>\n",
       "<style scoped>\n",
       "    .dataframe tbody tr th:only-of-type {\n",
       "        vertical-align: middle;\n",
       "    }\n",
       "\n",
       "    .dataframe tbody tr th {\n",
       "        vertical-align: top;\n",
       "    }\n",
       "\n",
       "    .dataframe thead th {\n",
       "        text-align: right;\n",
       "    }\n",
       "</style>\n",
       "<table border=\"1\" class=\"dataframe\">\n",
       "  <thead>\n",
       "    <tr style=\"text-align: right;\">\n",
       "      <th></th>\n",
       "      <th>1289</th>\n",
       "      <th>596</th>\n",
       "      <th>1935</th>\n",
       "      <th>2436</th>\n",
       "      <th>2349</th>\n",
       "      <th>40</th>\n",
       "      <th>1018</th>\n",
       "      <th>502</th>\n",
       "      <th>1534</th>\n",
       "      <th>1445</th>\n",
       "      <th>...</th>\n",
       "      <th>2044</th>\n",
       "      <th>1422</th>\n",
       "      <th>1747</th>\n",
       "      <th>2109</th>\n",
       "      <th>102</th>\n",
       "      <th>2243</th>\n",
       "      <th>57</th>\n",
       "      <th>578</th>\n",
       "      <th>1752</th>\n",
       "      <th>2439</th>\n",
       "    </tr>\n",
       "  </thead>\n",
       "  <tbody>\n",
       "    <tr>\n",
       "      <th>aa</th>\n",
       "      <td>0.0</td>\n",
       "      <td>0.0</td>\n",
       "      <td>0.0</td>\n",
       "      <td>0.0</td>\n",
       "      <td>0.0</td>\n",
       "      <td>0.0</td>\n",
       "      <td>0.0</td>\n",
       "      <td>0.0</td>\n",
       "      <td>0.0</td>\n",
       "      <td>0.0</td>\n",
       "      <td>...</td>\n",
       "      <td>0.0</td>\n",
       "      <td>0.0</td>\n",
       "      <td>0.0</td>\n",
       "      <td>0.0</td>\n",
       "      <td>0.0</td>\n",
       "      <td>0.0</td>\n",
       "      <td>0.0</td>\n",
       "      <td>0.0</td>\n",
       "      <td>0.0</td>\n",
       "      <td>0.0</td>\n",
       "    </tr>\n",
       "    <tr>\n",
       "      <th>aargh</th>\n",
       "      <td>0.0</td>\n",
       "      <td>0.0</td>\n",
       "      <td>0.0</td>\n",
       "      <td>0.0</td>\n",
       "      <td>0.0</td>\n",
       "      <td>0.0</td>\n",
       "      <td>0.0</td>\n",
       "      <td>0.0</td>\n",
       "      <td>0.0</td>\n",
       "      <td>0.0</td>\n",
       "      <td>...</td>\n",
       "      <td>0.0</td>\n",
       "      <td>0.0</td>\n",
       "      <td>0.0</td>\n",
       "      <td>0.0</td>\n",
       "      <td>0.0</td>\n",
       "      <td>0.0</td>\n",
       "      <td>0.0</td>\n",
       "      <td>0.0</td>\n",
       "      <td>0.0</td>\n",
       "      <td>0.0</td>\n",
       "    </tr>\n",
       "    <tr>\n",
       "      <th>aaron</th>\n",
       "      <td>0.0</td>\n",
       "      <td>0.0</td>\n",
       "      <td>0.0</td>\n",
       "      <td>0.0</td>\n",
       "      <td>0.0</td>\n",
       "      <td>0.0</td>\n",
       "      <td>0.0</td>\n",
       "      <td>0.0</td>\n",
       "      <td>0.0</td>\n",
       "      <td>0.0</td>\n",
       "      <td>...</td>\n",
       "      <td>0.0</td>\n",
       "      <td>0.0</td>\n",
       "      <td>0.0</td>\n",
       "      <td>0.0</td>\n",
       "      <td>0.0</td>\n",
       "      <td>0.0</td>\n",
       "      <td>0.0</td>\n",
       "      <td>0.0</td>\n",
       "      <td>0.0</td>\n",
       "      <td>0.0</td>\n",
       "    </tr>\n",
       "    <tr>\n",
       "      <th>aaronc</th>\n",
       "      <td>0.0</td>\n",
       "      <td>0.0</td>\n",
       "      <td>0.0</td>\n",
       "      <td>0.0</td>\n",
       "      <td>0.0</td>\n",
       "      <td>0.0</td>\n",
       "      <td>0.0</td>\n",
       "      <td>0.0</td>\n",
       "      <td>0.0</td>\n",
       "      <td>0.0</td>\n",
       "      <td>...</td>\n",
       "      <td>0.0</td>\n",
       "      <td>0.0</td>\n",
       "      <td>0.0</td>\n",
       "      <td>0.0</td>\n",
       "      <td>0.0</td>\n",
       "      <td>0.0</td>\n",
       "      <td>0.0</td>\n",
       "      <td>0.0</td>\n",
       "      <td>0.0</td>\n",
       "      <td>0.0</td>\n",
       "    </tr>\n",
       "    <tr>\n",
       "      <th>ab</th>\n",
       "      <td>0.0</td>\n",
       "      <td>0.0</td>\n",
       "      <td>0.0</td>\n",
       "      <td>0.0</td>\n",
       "      <td>0.0</td>\n",
       "      <td>0.0</td>\n",
       "      <td>0.0</td>\n",
       "      <td>0.0</td>\n",
       "      <td>0.0</td>\n",
       "      <td>0.0</td>\n",
       "      <td>...</td>\n",
       "      <td>0.0</td>\n",
       "      <td>0.0</td>\n",
       "      <td>0.0</td>\n",
       "      <td>0.0</td>\n",
       "      <td>0.0</td>\n",
       "      <td>0.0</td>\n",
       "      <td>0.0</td>\n",
       "      <td>0.0</td>\n",
       "      <td>0.0</td>\n",
       "      <td>0.0</td>\n",
       "    </tr>\n",
       "    <tr>\n",
       "      <th>...</th>\n",
       "      <td>...</td>\n",
       "      <td>...</td>\n",
       "      <td>...</td>\n",
       "      <td>...</td>\n",
       "      <td>...</td>\n",
       "      <td>...</td>\n",
       "      <td>...</td>\n",
       "      <td>...</td>\n",
       "      <td>...</td>\n",
       "      <td>...</td>\n",
       "      <td>...</td>\n",
       "      <td>...</td>\n",
       "      <td>...</td>\n",
       "      <td>...</td>\n",
       "      <td>...</td>\n",
       "      <td>...</td>\n",
       "      <td>...</td>\n",
       "      <td>...</td>\n",
       "      <td>...</td>\n",
       "      <td>...</td>\n",
       "      <td>...</td>\n",
       "    </tr>\n",
       "    <tr>\n",
       "      <th>zubov</th>\n",
       "      <td>0.0</td>\n",
       "      <td>0.0</td>\n",
       "      <td>0.0</td>\n",
       "      <td>0.0</td>\n",
       "      <td>0.0</td>\n",
       "      <td>0.0</td>\n",
       "      <td>0.0</td>\n",
       "      <td>0.0</td>\n",
       "      <td>0.0</td>\n",
       "      <td>0.0</td>\n",
       "      <td>...</td>\n",
       "      <td>0.0</td>\n",
       "      <td>0.0</td>\n",
       "      <td>0.0</td>\n",
       "      <td>0.0</td>\n",
       "      <td>0.0</td>\n",
       "      <td>0.0</td>\n",
       "      <td>0.0</td>\n",
       "      <td>0.0</td>\n",
       "      <td>0.0</td>\n",
       "      <td>0.0</td>\n",
       "    </tr>\n",
       "    <tr>\n",
       "      <th>zv</th>\n",
       "      <td>0.0</td>\n",
       "      <td>0.0</td>\n",
       "      <td>0.0</td>\n",
       "      <td>0.0</td>\n",
       "      <td>0.0</td>\n",
       "      <td>0.0</td>\n",
       "      <td>0.0</td>\n",
       "      <td>0.0</td>\n",
       "      <td>0.0</td>\n",
       "      <td>0.0</td>\n",
       "      <td>...</td>\n",
       "      <td>0.0</td>\n",
       "      <td>0.0</td>\n",
       "      <td>0.0</td>\n",
       "      <td>0.0</td>\n",
       "      <td>0.0</td>\n",
       "      <td>0.0</td>\n",
       "      <td>0.0</td>\n",
       "      <td>0.0</td>\n",
       "      <td>0.0</td>\n",
       "      <td>0.0</td>\n",
       "    </tr>\n",
       "    <tr>\n",
       "      <th>zw</th>\n",
       "      <td>0.0</td>\n",
       "      <td>0.0</td>\n",
       "      <td>0.0</td>\n",
       "      <td>0.0</td>\n",
       "      <td>0.0</td>\n",
       "      <td>0.0</td>\n",
       "      <td>0.0</td>\n",
       "      <td>0.0</td>\n",
       "      <td>0.0</td>\n",
       "      <td>0.0</td>\n",
       "      <td>...</td>\n",
       "      <td>0.0</td>\n",
       "      <td>0.0</td>\n",
       "      <td>0.0</td>\n",
       "      <td>0.0</td>\n",
       "      <td>0.0</td>\n",
       "      <td>0.0</td>\n",
       "      <td>0.0</td>\n",
       "      <td>0.0</td>\n",
       "      <td>0.0</td>\n",
       "      <td>0.0</td>\n",
       "    </tr>\n",
       "    <tr>\n",
       "      <th>zx</th>\n",
       "      <td>0.0</td>\n",
       "      <td>0.0</td>\n",
       "      <td>0.0</td>\n",
       "      <td>0.0</td>\n",
       "      <td>0.0</td>\n",
       "      <td>0.0</td>\n",
       "      <td>0.0</td>\n",
       "      <td>0.0</td>\n",
       "      <td>0.0</td>\n",
       "      <td>0.0</td>\n",
       "      <td>...</td>\n",
       "      <td>0.0</td>\n",
       "      <td>0.0</td>\n",
       "      <td>0.0</td>\n",
       "      <td>0.0</td>\n",
       "      <td>0.0</td>\n",
       "      <td>0.0</td>\n",
       "      <td>0.0</td>\n",
       "      <td>0.0</td>\n",
       "      <td>0.0</td>\n",
       "      <td>0.0</td>\n",
       "    </tr>\n",
       "    <tr>\n",
       "      <th>zz</th>\n",
       "      <td>0.0</td>\n",
       "      <td>0.0</td>\n",
       "      <td>0.0</td>\n",
       "      <td>0.0</td>\n",
       "      <td>0.0</td>\n",
       "      <td>0.0</td>\n",
       "      <td>0.0</td>\n",
       "      <td>0.0</td>\n",
       "      <td>0.0</td>\n",
       "      <td>0.0</td>\n",
       "      <td>...</td>\n",
       "      <td>0.0</td>\n",
       "      <td>0.0</td>\n",
       "      <td>0.0</td>\n",
       "      <td>0.0</td>\n",
       "      <td>0.0</td>\n",
       "      <td>0.0</td>\n",
       "      <td>0.0</td>\n",
       "      <td>0.0</td>\n",
       "      <td>0.0</td>\n",
       "      <td>0.0</td>\n",
       "    </tr>\n",
       "  </tbody>\n",
       "</table>\n",
       "<p>9328 rows × 2000 columns</p>\n",
       "</div>"
      ],
      "text/plain": [
       "        1289  596   1935  2436  2349  40    1018  502   1534  1445  ...  2044  \\\n",
       "aa       0.0   0.0   0.0   0.0   0.0   0.0   0.0   0.0   0.0   0.0  ...   0.0   \n",
       "aargh    0.0   0.0   0.0   0.0   0.0   0.0   0.0   0.0   0.0   0.0  ...   0.0   \n",
       "aaron    0.0   0.0   0.0   0.0   0.0   0.0   0.0   0.0   0.0   0.0  ...   0.0   \n",
       "aaronc   0.0   0.0   0.0   0.0   0.0   0.0   0.0   0.0   0.0   0.0  ...   0.0   \n",
       "ab       0.0   0.0   0.0   0.0   0.0   0.0   0.0   0.0   0.0   0.0  ...   0.0   \n",
       "...      ...   ...   ...   ...   ...   ...   ...   ...   ...   ...  ...   ...   \n",
       "zubov    0.0   0.0   0.0   0.0   0.0   0.0   0.0   0.0   0.0   0.0  ...   0.0   \n",
       "zv       0.0   0.0   0.0   0.0   0.0   0.0   0.0   0.0   0.0   0.0  ...   0.0   \n",
       "zw       0.0   0.0   0.0   0.0   0.0   0.0   0.0   0.0   0.0   0.0  ...   0.0   \n",
       "zx       0.0   0.0   0.0   0.0   0.0   0.0   0.0   0.0   0.0   0.0  ...   0.0   \n",
       "zz       0.0   0.0   0.0   0.0   0.0   0.0   0.0   0.0   0.0   0.0  ...   0.0   \n",
       "\n",
       "        1422  1747  2109  102   2243  57    578   1752  2439  \n",
       "aa       0.0   0.0   0.0   0.0   0.0   0.0   0.0   0.0   0.0  \n",
       "aargh    0.0   0.0   0.0   0.0   0.0   0.0   0.0   0.0   0.0  \n",
       "aaron    0.0   0.0   0.0   0.0   0.0   0.0   0.0   0.0   0.0  \n",
       "aaronc   0.0   0.0   0.0   0.0   0.0   0.0   0.0   0.0   0.0  \n",
       "ab       0.0   0.0   0.0   0.0   0.0   0.0   0.0   0.0   0.0  \n",
       "...      ...   ...   ...   ...   ...   ...   ...   ...   ...  \n",
       "zubov    0.0   0.0   0.0   0.0   0.0   0.0   0.0   0.0   0.0  \n",
       "zv       0.0   0.0   0.0   0.0   0.0   0.0   0.0   0.0   0.0  \n",
       "zw       0.0   0.0   0.0   0.0   0.0   0.0   0.0   0.0   0.0  \n",
       "zx       0.0   0.0   0.0   0.0   0.0   0.0   0.0   0.0   0.0  \n",
       "zz       0.0   0.0   0.0   0.0   0.0   0.0   0.0   0.0   0.0  \n",
       "\n",
       "[9328 rows x 2000 columns]"
      ]
     },
     "execution_count": 17,
     "metadata": {},
     "output_type": "execute_result"
    }
   ],
   "source": [
    "# Finally compute the TFxIDF values for each document-term entry\n",
    "#TD_tfidf = TD * IDF\n",
    "TD_tfidf = np.multiply(TD, IDF)\n",
    "TD_tfidf"
   ]
  },
  {
   "cell_type": "markdown",
   "metadata": {},
   "source": [
    "We can see above that most values are zero; this is a sparse matrix as noted earlier."
   ]
  },
  {
   "cell_type": "code",
   "execution_count": 18,
   "metadata": {},
   "outputs": [
    {
     "data": {
      "text/plain": [
       "(2000, 9328)"
      ]
     },
     "execution_count": 18,
     "metadata": {},
     "output_type": "execute_result"
    }
   ],
   "source": [
    "DT_tfidf = TD_tfidf.T\n",
    "DT_tfidf.shape"
   ]
  },
  {
   "cell_type": "code",
   "execution_count": 19,
   "metadata": {},
   "outputs": [
    {
     "data": {
      "text/plain": [
       "(2000, 9328)"
      ]
     },
     "execution_count": 19,
     "metadata": {},
     "output_type": "execute_result"
    }
   ],
   "source": [
    "#drop rows (terms) where NULLs exist:\n",
    "DT_tfidf_not_null = DT_tfidf[~np.isnan(DT_tfidf).any(axis=1)]\n",
    "DT_tfidf_not_null.shape #NO NULLS EXIST! :D"
   ]
  },
  {
   "cell_type": "markdown",
   "metadata": {},
   "source": [
    "####  Create term-freqency dictionary:"
   ]
  },
  {
   "cell_type": "code",
   "execution_count": 20,
   "metadata": {},
   "outputs": [
    {
     "data": {
      "text/plain": [
       "9328"
      ]
     },
     "execution_count": 20,
     "metadata": {},
     "output_type": "execute_result"
    }
   ],
   "source": [
    "numTerms = doc_term_matrix_train.shape[1]\n",
    "numTerms"
   ]
  },
  {
   "cell_type": "code",
   "execution_count": 21,
   "metadata": {},
   "outputs": [
    {
     "name": "stdout",
     "output_type": "stream",
     "text": [
      "[('aa', array([7], dtype=int64)), ('aargh', array([4], dtype=int64)), ('aaron', array([17], dtype=int64)), ('aaronc', array([6], dtype=int64)), ('ab', array([9], dtype=int64))]\n"
     ]
    }
   ],
   "source": [
    "dictTF = {terms_lst[i]:docFreq[i] for i in range(numTerms)}             \n",
    "print(list(islice(dictTF.items(), 5)))"
   ]
  },
  {
   "cell_type": "markdown",
   "metadata": {},
   "source": [
    "## Perform K-Means clustering on the training data "
   ]
  },
  {
   "cell_type": "code",
   "execution_count": 22,
   "metadata": {},
   "outputs": [],
   "source": [
    "#turn the matrix into a 2D numpy array\n",
    "DT_tfidf = np.array(DT_tfidf) "
   ]
  },
  {
   "cell_type": "code",
   "execution_count": 23,
   "metadata": {},
   "outputs": [
    {
     "name": "stdout",
     "output_type": "stream",
     "text": [
      "\n",
      "Time to compute: 0:00:47.972943\n"
     ]
    }
   ],
   "source": [
    "#run k-means\n",
    "start = dt.datetime.now()\n",
    "centroids, cluster = km.Train.KMeansClustering(DT_tfidf, k=5)\n",
    "end = dt.datetime.now()\n",
    "print('\\nTime to compute: {}'.format(end-start))"
   ]
  },
  {
   "cell_type": "code",
   "execution_count": 24,
   "metadata": {},
   "outputs": [
    {
     "name": "stdout",
     "output_type": "stream",
     "text": [
      "Number of docs in clusters:\n",
      "Cluster 2 : 786\n",
      "Cluster 4 : 408\n",
      "Cluster 0 : 405\n",
      "Cluster 3 : 393\n",
      "Cluster 1 : 8\n"
     ]
    }
   ],
   "source": [
    "cluster_counts_dict = collections.Counter(cluster[:, 0])\n",
    "print(\"Number of docs in clusters:\")\n",
    "for key in cluster_counts_dict:\n",
    "    print(\"Cluster\", int(key), ':',  cluster_counts_dict[key])"
   ]
  },
  {
   "cell_type": "code",
   "execution_count": 25,
   "metadata": {},
   "outputs": [],
   "source": [
    "#create arrays\n",
    "doc_term_matrix_train_arr = np.array(doc_term_matrix_train)\n",
    "terms_arr = np.array(terms_lst)"
   ]
  },
  {
   "cell_type": "markdown",
   "metadata": {},
   "source": [
    "Can you guess which cluster is which based on the following categories?\n",
    "- windows \n",
    "- crypt\n",
    "- christian\n",
    "- hockey\n",
    "- forsale"
   ]
  },
  {
   "cell_type": "code",
   "execution_count": 26,
   "metadata": {
    "scrolled": false
   },
   "outputs": [
    {
     "name": "stdout",
     "output_type": "stream",
     "text": [
      "###############################################\n",
      "Cluster: 0\n",
      "\t-----------------------\n",
      "\tNumber of docs in cluster: 405\n",
      "\t-----------------------\n",
      "\t-----------------------\n",
      "\tTop N terms | % of docs in cluster that contain those terms\n",
      "\t-----------------------\n",
      "\t        kei | 45.9%\n",
      "\t    encrypt | 45.7%\n",
      "\t       chip | 38.8%\n",
      "\t      secur | 28.9%\n",
      "\t     govern | 33.6%\n",
      "\t    clipper | 45.7%\n",
      "\t    privaci | 12.3%\n",
      "\t     anonym | 4.7%\n",
      "\t  algorithm | 24.7%\n",
      "\t     system | 30.6%\n",
      "###############################################\n",
      "\n",
      "###############################################\n",
      "Cluster: 1\n",
      "\t-----------------------\n",
      "\tNumber of docs in cluster: 8\n",
      "\t-----------------------\n",
      "\t-----------------------\n",
      "\tTop N terms | % of docs in cluster that contain those terms\n",
      "\t-----------------------\n",
      "\t         ax | 87.5%\n",
      "\t        max | 87.5%\n",
      "\t         pl | 75.0%\n",
      "\t        giz | 75.0%\n",
      "\t        bxn | 75.0%\n",
      "\t         wm | 75.0%\n",
      "\t         qq | 75.0%\n",
      "\t         mq | 75.0%\n",
      "\t        asq | 75.0%\n",
      "\t        nui | 75.0%\n",
      "###############################################\n",
      "\n",
      "###############################################\n",
      "Cluster: 2\n",
      "\t-----------------------\n",
      "\tNumber of docs in cluster: 786\n",
      "\t-----------------------\n",
      "\t-----------------------\n",
      "\tTop N terms | % of docs in cluster that contain those terms\n",
      "\t-----------------------\n",
      "\t     window | 37.5%\n",
      "\t       file | 19.3%\n",
      "\t         do | 20.0%\n",
      "\t       sale | 28.8%\n",
      "\t     driver | 10.3%\n",
      "\t       card | 15.4%\n",
      "\t       mous | 5.2%\n",
      "\t    program | 16.9%\n",
      "\t      drive | 12.6%\n",
      "\t        run | 18.6%\n",
      "###############################################\n",
      "\n",
      "###############################################\n",
      "Cluster: 3\n",
      "\t-----------------------\n",
      "\tNumber of docs in cluster: 393\n",
      "\t-----------------------\n",
      "\t-----------------------\n",
      "\tTop N terms | % of docs in cluster that contain those terms\n",
      "\t-----------------------\n",
      "\t         db | 0.5%\n",
      "\t        god | 54.2%\n",
      "\t  christian | 45.8%\n",
      "\t     church | 27.0%\n",
      "\t       jesu | 26.2%\n",
      "\t   homosexu | 9.7%\n",
      "\t        sin | 20.1%\n",
      "\t         bh | 0.5%\n",
      "\t     christ | 27.2%\n",
      "\t       paul | 18.1%\n",
      "###############################################\n",
      "\n",
      "###############################################\n",
      "Cluster: 4\n",
      "\t-----------------------\n",
      "\tNumber of docs in cluster: 408\n",
      "\t-----------------------\n",
      "\t-----------------------\n",
      "\tTop N terms | % of docs in cluster that contain those terms\n",
      "\t-----------------------\n",
      "\t         cx | 1.2%\n",
      "\t       game | 52.5%\n",
      "\t       team | 47.5%\n",
      "\t       plai | 40.4%\n",
      "\t         uw | 1.5%\n",
      "\t     player | 29.9%\n",
      "\t         gm | 4.9%\n",
      "\t     hockei | 39.0%\n",
      "\t     season | 23.8%\n",
      "\t       goal | 20.3%\n",
      "###############################################\n",
      "\n"
     ]
    }
   ],
   "source": [
    "#print results\n",
    "km.Train.printDocClusterSummary(centroids, cluster, 10, doc_term_matrix_train_arr, terms_arr)"
   ]
  },
  {
   "cell_type": "markdown",
   "metadata": {},
   "source": [
    "#### using KMeans() from sklearn:"
   ]
  },
  {
   "cell_type": "code",
   "execution_count": 27,
   "metadata": {},
   "outputs": [],
   "source": [
    "kmeans = KMeans(n_clusters=5, max_iter=500) "
   ]
  },
  {
   "cell_type": "code",
   "execution_count": 28,
   "metadata": {
    "scrolled": true
   },
   "outputs": [
    {
     "data": {
      "text/plain": [
       "KMeans(algorithm='auto', copy_x=True, init='k-means++', max_iter=500,\n",
       "       n_clusters=5, n_init=10, n_jobs=None, precompute_distances='auto',\n",
       "       random_state=None, tol=0.0001, verbose=0)"
      ]
     },
     "execution_count": 28,
     "metadata": {},
     "output_type": "execute_result"
    }
   ],
   "source": [
    "kmeans.fit(DT_tfidf) "
   ]
  },
  {
   "cell_type": "code",
   "execution_count": 29,
   "metadata": {},
   "outputs": [],
   "source": [
    "#save cluster assignments\n",
    "clusters_sklearn = kmeans.labels_"
   ]
  },
  {
   "cell_type": "code",
   "execution_count": 30,
   "metadata": {},
   "outputs": [
    {
     "name": "stdout",
     "output_type": "stream",
     "text": [
      "Number of docs in clusters:\n",
      "Cluster 0 : 1994\n",
      "Cluster 2 : 2\n",
      "Cluster 3 : 1\n",
      "Cluster 4 : 1\n",
      "Cluster 1 : 2\n"
     ]
    }
   ],
   "source": [
    "cluster_counts_dict = collections.Counter(clusters_sklearn)\n",
    "print(\"Number of docs in clusters:\")\n",
    "for key in cluster_counts_dict:\n",
    "    print(\"Cluster\", int(key), ':',  cluster_counts_dict[key])"
   ]
  },
  {
   "cell_type": "markdown",
   "metadata": {},
   "source": [
    "These results are not at all similar to what the hand-built `KMeansClustering` function got. `sklearn`'s `KMeans` doesn't appear to work so well on this dataset."
   ]
  },
  {
   "cell_type": "markdown",
   "metadata": {
    "collapsed": true
   },
   "source": [
    "## Compute the Completeness and Homogeneity values of the cluster assignments"
   ]
  },
  {
   "cell_type": "code",
   "execution_count": 31,
   "metadata": {},
   "outputs": [],
   "source": [
    "#make the classes a 1D array so it can be compared with the cluster assignments\n",
    "classes_train_arr = np.array(classes_train)\n",
    "classes_train_arr = classes_train_arr.reshape(1, -1)\n",
    "classes_train_arr = classes_train_arr[0]"
   ]
  },
  {
   "cell_type": "code",
   "execution_count": 32,
   "metadata": {},
   "outputs": [],
   "source": [
    "#grab the cluster assignments from the K_Means() output:\n",
    "cluster_assignments = cluster[:, 0]"
   ]
  },
  {
   "cell_type": "code",
   "execution_count": 33,
   "metadata": {},
   "outputs": [
    {
     "data": {
      "text/plain": [
       "0.8491846979303588"
      ]
     },
     "execution_count": 33,
     "metadata": {},
     "output_type": "execute_result"
    }
   ],
   "source": [
    "completeness_score(classes_train_arr, cluster_assignments)"
   ]
  },
  {
   "cell_type": "markdown",
   "metadata": {},
   "source": [
    "It looks like our clusters have a good completeness score, and it is similar to an 85% accuracy score (based upon the true class assignments). A clustering result satisfies completeness if all the data points that are members of a given class are elements of the same cluster."
   ]
  },
  {
   "cell_type": "code",
   "execution_count": 34,
   "metadata": {
    "scrolled": true
   },
   "outputs": [
    {
     "data": {
      "text/plain": [
       "0.715828717504507"
      ]
     },
     "execution_count": 34,
     "metadata": {},
     "output_type": "execute_result"
    }
   ],
   "source": [
    "homogeneity_score(classes_train_arr, cluster_assignments)"
   ]
  },
  {
   "cell_type": "markdown",
   "metadata": {},
   "source": [
    "The clusters have a pretty good homogeneity score; there is about a 72% \"sameness\" in each cluster. This means the clusters have pretty decent inter-cluster similarity. Overall, we can conclude that our algorithm did just about as well as whatever algorithm clustered them to create those 'true' classes."
   ]
  },
  {
   "cell_type": "markdown",
   "metadata": {},
   "source": [
    "## Investigate the quality of the clustering with Silhouete vales\n",
    "One way to measure the quality of clustering is to compute the Silhouette values for each instance in the data. The silhouette value is a measure of how similar an object is to its own cluster (cohesion) compared to other clusters (separation). It is the ratio of the difference between in-cluster dissimilarity and the closest out-of-cluster dissimilarity, and the maximum of these two values. The silhouette ranges from −1 to +1, where a high value indicates that the object is well matched to its own cluster and well separated from other clusters. If most objects have a high value, then the clustering configuration is appropriate. If many points have a low or negative value, then the clustering configuration may have too many or too few clusters."
   ]
  },
  {
   "cell_type": "code",
   "execution_count": 35,
   "metadata": {},
   "outputs": [],
   "source": [
    "silhouettes = metrics.silhouette_samples(DT_tfidf, cluster_assignments)"
   ]
  },
  {
   "cell_type": "code",
   "execution_count": 36,
   "metadata": {},
   "outputs": [],
   "source": [
    "def plot_silhouettes(data, clusters, metric='euclidean'):\n",
    "\n",
    "    cluster_labels = np.unique(clusters)\n",
    "    n_clusters = cluster_labels.shape[0]\n",
    "    silhouette_vals = metrics.silhouette_samples(data, clusters, metric='euclidean')\n",
    "    c_ax_lower, c_ax_upper = 0, 0\n",
    "    cticks = []\n",
    "    for i, k in enumerate(cluster_labels):\n",
    "        c_silhouette_vals = silhouette_vals[clusters == k]\n",
    "        c_silhouette_vals.sort()\n",
    "        c_ax_upper += len(c_silhouette_vals)\n",
    "        color = cm.jet(float(i) / n_clusters)\n",
    "        plt.barh(range(c_ax_lower, c_ax_upper), c_silhouette_vals, height=1.0, \n",
    "                      edgecolor='none', color=color)\n",
    "\n",
    "        cticks.append((c_ax_lower + c_ax_upper) / 2)\n",
    "        c_ax_lower += len(c_silhouette_vals)\n",
    "    \n",
    "    silhouette_avg = np.mean(silhouette_vals)\n",
    "    plt.axvline(silhouette_avg, color=\"red\", linestyle=\"--\") \n",
    "\n",
    "    plt.yticks(cticks, cluster_labels)\n",
    "    plt.ylabel('Cluster')\n",
    "    plt.xlabel('Silhouette coefficient')\n",
    "\n",
    "    plt.tight_layout()\n",
    "    #plt.savefig('images/11_04.png', dpi=300)\n",
    "    plt.show()"
   ]
  },
  {
   "cell_type": "code",
   "execution_count": 37,
   "metadata": {},
   "outputs": [
    {
     "data": {
      "image/png": "[encoded data removed]",
      "text/plain": [
       "<Figure size 432x288 with 1 Axes>"
      ]
     },
     "metadata": {},
     "output_type": "display_data"
    }
   ],
   "source": [
    "plot_silhouettes(DT_tfidf, cluster_assignments)"
   ]
  },
  {
   "cell_type": "markdown",
   "metadata": {},
   "source": [
    "We can see from the silhouette plot that the clusters are not so different from eachother, and that is likely due to the sparsity of the matrix. Since most documents have zero occurences of most terms, the clusters appear to be a bit meaningless. Thus, due to the sparsity of the matrix, silhouette values don't provide much information and aren't so useful. It is more meaningful to see whether the clustering produced cluster assignments that match the ground-truth classes, which we saw in the completeness and homogeneity scores above."
   ]
  },
  {
   "cell_type": "markdown",
   "metadata": {},
   "source": [
    "## Categorize each of the documents in the test set\n",
    "Here the hand-built `NearestNeighborClassifier()` is used to determine which cluster each document falls into. For this, the centroids generated from the hand-built `KMeansClustering()` function are used as the classes."
   ]
  },
  {
   "cell_type": "code",
   "execution_count": 38,
   "metadata": {},
   "outputs": [
    {
     "data": {
      "text/plain": [
       "(500, 9328)"
      ]
     },
     "execution_count": 38,
     "metadata": {},
     "output_type": "execute_result"
    }
   ],
   "source": [
    "#create numpy array\n",
    "doc_term_matrix_test_array = np.array(doc_term_matrix_test)\n",
    "doc_term_matrix_test_array.shape"
   ]
  },
  {
   "cell_type": "code",
   "execution_count": 39,
   "metadata": {},
   "outputs": [],
   "source": [
    "all_results, predicted_cluster_assignments = km.Train.NearestNeighborClassifier(centroids, doc_term_matrix_test_array)"
   ]
  },
  {
   "cell_type": "code",
   "execution_count": 40,
   "metadata": {},
   "outputs": [],
   "source": [
    "#make the ground-truth classes a 1D array so it can be compared with the cluster assignments\n",
    "classes_test_arr = np.array(classes_test)\n",
    "classes_test_arr = classes_test_arr.reshape(1, -1)\n",
    "classes_test_arr = classes_test_arr[0]"
   ]
  },
  {
   "cell_type": "code",
   "execution_count": 41,
   "metadata": {},
   "outputs": [
    {
     "data": {
      "text/plain": [
       "0.8250147931195887"
      ]
     },
     "execution_count": 41,
     "metadata": {},
     "output_type": "execute_result"
    }
   ],
   "source": [
    "completeness_score(classes_test_arr, predicted_cluster_assignments)"
   ]
  },
  {
   "cell_type": "markdown",
   "metadata": {},
   "source": [
    "It looks like our clusters have a good completeness score, and it is similar to the 83% completeness score we got on the training set. It is normal for the test set to perform slightly worse, as some overfitting is part of the variance-bias tradeoff. \n",
    "\n",
    "Note: A clustering result satisfies completeness if all the data points that are members of a given class are elements of the same cluster. It is similar to an accuracy score because it's based on predicted vs. actual classes."
   ]
  },
  {
   "cell_type": "code",
   "execution_count": 42,
   "metadata": {
    "scrolled": true
   },
   "outputs": [
    {
     "data": {
      "text/plain": [
       "0.6881070480516535"
      ]
     },
     "execution_count": 42,
     "metadata": {},
     "output_type": "execute_result"
    }
   ],
   "source": [
    "homogeneity_score(classes_test_arr, predicted_cluster_assignments)"
   ]
  },
  {
   "cell_type": "markdown",
   "metadata": {},
   "source": [
    "This result is also similar to what we got for the training set, so we are in good shape with our classifier."
   ]
  }
 ],
 "metadata": {
  "kernelspec": {
   "display_name": "Python 3",
   "language": "python",
   "name": "python3"
  },
  "language_info": {
   "codemirror_mode": {
    "name": "ipython",
    "version": 3
   },
   "file_extension": ".py",
   "mimetype": "text/x-python",
   "name": "python",
   "nbconvert_exporter": "python",
   "pygments_lexer": "ipython3",
   "version": "3.7.7"
  }
 },
 "nbformat": 4,
 "nbformat_minor": 2
}
